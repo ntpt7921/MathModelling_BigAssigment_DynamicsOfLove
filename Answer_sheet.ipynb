{
 "cells": [
  {
   "cell_type": "code",
   "execution_count": null,
   "metadata": {
    "id": "IxNeh21snm8x"
   },
   "outputs": [],
   "source": [
    "#Leave this empty!"
   ]
  },
  {
   "cell_type": "markdown",
   "metadata": {
    "id": "p-UFRnUrZP6i"
   },
   "source": [
    "\n",
    "\n",
    "---\n",
    "\n",
    "\n",
    "*This answer sheet is used for answering the excercises of the assignment \"Dynamics of Love\" (Semester 2/Academic Year 2022-2023) - © Thinh Nguyen*\n",
    "\n",
    "*Student(s):*\n",
    "$$\n",
    "\\begin{array}{lllll}\n",
    "\\hline\n",
    "\\textbf{No.} & \\textbf{Fullname} & \\textbf{ID} & \\textbf{Group} & \\textbf{Contribution}\\\\\n",
    "\\hline\n",
    "1 & \\textrm{Nguyễn Trần Phước Thành} & 1912059 & \\textrm{L01_8} & 25\\% \\\\\n",
    "2 & \\textrm{Phạm Tấn Lực} & 1914089 & \\textrm{L01_8} & 25\\% \\\\\n",
    "1 & \\textrm{Hoàng Công Sơn} & 1911975 & \\textrm{L01_8} & 25\\% \\\\\n",
    "2 & \\textrm{Trần Đoàn Đức Huy} & 2013332 & \\textrm{L01_8} & 25\\% \\\\\n",
    "\\hline\n",
    "\\end{array}\n",
    "$$\n",
    "\n",
    "\\\\\n",
    "\n",
    "For these exercises use the following system of ODEs (Ordinary Differential Equations)\n",
    "$$\n",
    "\\begin{cases}\n",
    "  \\dot{\\textbf{x}} = \\textbf{f}(t, \\textbf{x}),\\\\\n",
    "  \\textbf{x}(0) = \\textbf{x}_0,\n",
    "\\end{cases}\n",
    "$$\n",
    "where $\\textbf{x}=\\textbf{x}(t)$ a 2-dimensional real vector dependent on time $t\\ge 0$ and $\\textbf{f}$ is a 2-dimensional real-vector-valued function dependent on time $t$ and $\\textbf{x}$. As an example, $\\textbf{f}(t, \\textbf{x})=A\\textbf{x}$, where $A$ is a constant $2\\times 2$ matrix with real entries.\n",
    "\n",
    "Let's call the system above system (1).\n",
    "\n",
    "---\n",
    "\n"
   ]
  },
  {
   "cell_type": "code",
   "execution_count": null,
   "metadata": {
    "id": "wKqpfbPQniNT"
   },
   "outputs": [],
   "source": [
    "#Leave this empty!"
   ]
  },
  {
   "cell_type": "markdown",
   "metadata": {
    "id": "osg7nJXD2h3y"
   },
   "source": [
    "**Important notes:**\n",
    "\n",
    "\n",
    "*   For each small question, if the answer is not complete, the score of the answer will be **50% of the score of the complete part of the answer**. If the answer is not readable, the score of it will be **0**.\n",
    "*   For Exercise 4, use only the libraries numpy and matplotlib. For the function *jacobian_x* and the function *solve_system*, do not use any function that are similar to them provided in numpy.\n",
    "\n"
   ]
  },
  {
   "cell_type": "code",
   "execution_count": null,
   "metadata": {
    "id": "9P2sndbB9DWQ"
   },
   "outputs": [],
   "source": [
    "#Leave this empty!"
   ]
  },
  {
   "cell_type": "markdown",
   "metadata": {
    "id": "zarick9ZSEM2"
   },
   "source": [
    "# **Exercise 1 (*2.0 points*)**"
   ]
  },
  {
   "cell_type": "markdown",
   "metadata": {
    "id": "69BsYkDqTDmV"
   },
   "source": [
    "1) Find the 3 formulae of the exact solution to the system (1) in the constant linear case where $\\textbf{f}(t, \\textbf{x})=A\\textbf{x}$ in terms of the eigenvalues $\\lambda_1$ and $\\lambda_2$ of $A$. All of the coefficients must be written explicitly without leading to any equation! (*1.0 point*)"
   ]
  },
  {
   "cell_type": "markdown",
   "metadata": {
    "id": "k_iIH7T8W_GG"
   },
   "source": [
    "*Answer:*\n",
    "\n",
    "\n",
    "- $\\lambda_1, \\lambda_2\\in\\mathbb R, \\lambda_1\\ne \\lambda_2$:\n",
    "\n",
    "    $$\n",
    "      \\textbf{x}(t) = C_1 . e^{\\lambda_1 t} \\vec{v_1} \n",
    "                    + C_2 . e^{\\lambda_2 t} \\vec{v_2}\n",
    "    $$\n",
    "    \n",
    "    with $\\vec{v_1}$ and $\\vec{v_2}$ being the eigenvector for $\\lambda_1$ and $\\lambda_2$\n",
    "    <br>\n",
    "    \n",
    "- $\\lambda_1, \\lambda_2\\in\\mathbb R, \\lambda_1=\\lambda_2=\\lambda$:\n",
    "\n",
    "    $$\n",
    "      \\textbf{x}(t) = C_1 . e^{\\lambda t} \\vec{v} \n",
    "                    + C_2 . e^{\\lambda t} \\left( t \\vec{v} + \\vec{w} \\right)\n",
    "    $$\n",
    "    \n",
    "    with $\\vec{v}$ being the eigenvector for $\\lambda$\n",
    "    \n",
    "    and $\\vec{w}$ is a vector satisfying $(A - \\lambda I) \\vec{w} = \\vec{v}$\n",
    "    <br>\n",
    "\n",
    "- $\\lambda_1, \\lambda_2\\in\\mathbb C, \\lambda_1= a+ib, \\lambda_2=a-ib$:\n",
    "\n",
    "    Suppose $\\vec{v_1}$ is the eigenvector corresponding to $\\lambda_1$, \n",
    "    written as $\\vec{v_1} = \\vec{r} + i \\vec{s}$ where $\\vec{r}$ and $\\vec{s}$ only have real entires.\n",
    "    Then we have the solution:\n",
    "\n",
    "    $$\n",
    "      \\textbf{x}(t) = C_1 . e^{a t} \\left( \\vec{r} \\cos(bt) - \\vec{s} \\sin(bt) \\right)\n",
    "                    + C_2 . e^{a t} \\left( \\vec{r} \\sin(bt) + \\vec{s} \\cos(bt) \\right)\n",
    "    $$\n",
    "    \n",
    "    This also cover the case of $\\lambda_2$ and its eigenvector $\\vec{v_2}$ \n",
    "    (which is the complex conjugate of $\\vec{v_1}$)"
   ]
  },
  {
   "cell_type": "markdown",
   "metadata": {
    "id": "c4Gozsu8bapr"
   },
   "source": [
    "2) Complete the phase-portrait table with these types: Spiral, Center, Saddle, and Node. (*1.0 point*)"
   ]
  },
  {
   "cell_type": "markdown",
   "metadata": {
    "id": "61Ik5oHfkkmW"
   },
   "source": [
    "*Answer:*\n",
    "\n",
    "$$\n",
    "\\begin{array}{ccccc}\n",
    "\\hline\n",
    "\\textrm{Re}\\,\\lambda_1 & \\textrm{Re}\\,\\lambda_2 & |\\textrm{Im}\\,\\lambda_1| & |\\textrm{Im}\\,\\lambda_2| & \\textbf{Type}\\\\\n",
    "\\hline\n",
    "+ & + & 0 & 0 & Node\\\\\n",
    "+ & - & 0 & 0 & Saddle\\\\\n",
    "- & - & 0 & 0 & Node\\\\\n",
    "+ & + & + & + & Spiral (out)\\\\\n",
    "- & - & + & + & Spiral (in)\\\\\n",
    "0 & 0 & + & + & Center\\\\\n",
    "\\hline\n",
    "\\end{array}\n",
    "$$"
   ]
  },
  {
   "cell_type": "code",
   "execution_count": null,
   "metadata": {
    "id": "y7nld6nM9NoL"
   },
   "outputs": [],
   "source": [
    "#Leave this empty!"
   ]
  },
  {
   "cell_type": "markdown",
   "metadata": {
    "id": "NDRhKBKTSIkS"
   },
   "source": [
    "# **Exercise 2 (*4.0 points*)**"
   ]
  },
  {
   "cell_type": "markdown",
   "metadata": {
    "id": "dv91u7y4qYoH"
   },
   "source": [
    "1) Give 5 examples of the coefficient matrix $A$ and initial condition $\\textbf{x}_0$. Then use the formulae in Exercise 1 to find the solution $\\textbf{x}$ explicitly. (*1.0 point*) "
   ]
  },
  {
   "cell_type": "markdown",
   "metadata": {
    "id": "OXRDzG4qtLCc"
   },
   "source": [
    "*Answer:*\n",
    "\n",
    "\n",
    "0.   Sample example: $A = \\begin{pmatrix} 1 & -1 \\\\ 2 & 1 \\end{pmatrix}$ and $\\textbf{x}_0 = \\begin{pmatrix}1 \\\\ 1\\end{pmatrix}$. Solution is\n",
    "$$\n",
    "  \\textbf{x}(t) = \\Biggl[\\begin{pmatrix}1 \\\\ 0\\end{pmatrix} cos(2t)-\\begin{pmatrix}0 \\\\ 4\\end{pmatrix}sin(2t)+ \\frac{- \\sqrt{2}}{2}\\Bigl(\\begin{pmatrix} 0 \\\\ 4 \\end{pmatrix}cos(2t)+ \\begin{pmatrix}1 \\\\ 0\\end{pmatrix}sin(2t)\\Bigl)\\Biggl]e^{t} \n",
    "$$\n",
    "1.   Example 1: $A = \\begin{pmatrix} 3 & 1 \\\\ 4 & 3 \\end{pmatrix}$ and $\\textbf{x}_0 = \\begin{pmatrix}1 \\\\ -5\\end{pmatrix}$. Solution is\n",
    "$$\n",
    "  \\textbf{x}(t) = \\frac{-3}{4}e^{5t}\\begin{pmatrix}1 \\\\ 2\\end{pmatrix}+ \\frac{7}{4}e^{t}\\begin{pmatrix}1 \\\\ -2\\end{pmatrix} \n",
    "$$\n",
    "2.   Example 2: $A = \\begin{pmatrix} 2 & 11 \\\\ 6 & -3 \\end{pmatrix}$ and $\\textbf{x}_0 = \\begin{pmatrix}15 \\\\ 2\\end{pmatrix}$. Solution is\n",
    "$$\n",
    "  \\textbf{x}(t) = e^{8t}\\begin{pmatrix}11 \\\\ 6\\end{pmatrix}+ 4e^{-9t}\\begin{pmatrix}1 \\\\ -1\\end{pmatrix} \n",
    "$$\n",
    "3.   Example 3: $A = \\begin{pmatrix} 1 & 4 \\\\ -4 & -7 \\end{pmatrix}$ and $\\textbf{x}_0 = \\begin{pmatrix}1 \\\\ 0\\end{pmatrix}$. Solution is\n",
    "$$\n",
    "  \\textbf{x}(t) = \\Biggl[\\begin{pmatrix}1 \\\\ -1\\end{pmatrix}+ 4\\Biggl(\\begin{pmatrix}1 \\\\ -1\\end{pmatrix}t+ \\begin{pmatrix}0 \\\\ 1\\end{pmatrix}\\Biggl)\\Biggl]e^{-3t} \n",
    "$$\n",
    "4.   Example 4: $A = \\begin{pmatrix} -2 & 1 \\\\ -5 & 2 \\end{pmatrix}$ and $\\textbf{x}_0 = \\begin{pmatrix}1 \\\\ 5\\end{pmatrix}$. Solution is\n",
    "$$\n",
    "  \\textbf{x}(t) = \\Biggl(\\begin{pmatrix}1 \\\\ 2\\end{pmatrix} cos(t)-\\begin{pmatrix}0 \\\\ 1\\end{pmatrix}sin(t)\\Biggl) +3\\Biggl(\\begin{pmatrix}0 \\\\ 1\\end{pmatrix} cos(t)+\\begin{pmatrix}1 \\\\ 2\\end{pmatrix}sin(t)\\Biggl) \n",
    "$$\n",
    "5.   Example 5: $A = \\begin{pmatrix} -7 & -5 \\\\ -3 & -5 \\end{pmatrix}$ and $\\textbf{x}_0 = \\begin{pmatrix}6 \\\\ -2\\end{pmatrix}$. Solution is\n",
    "$$\n",
    "  \\textbf{x}(t) = 5e^{-2t}\\begin{pmatrix}1 \\\\ -1\\end{pmatrix}+ e^{-10t}\\begin{pmatrix}1 \\\\ 7\\end{pmatrix}\n",
    "$$"
   ]
  },
  {
   "cell_type": "markdown",
   "metadata": {
    "id": "YRtyQz0HvY2j"
   },
   "source": [
    "2) Find the formula of the solution to system of \"non-homogeneous\" ODEs\n",
    "$$\n",
    "\\begin{cases}\n",
    "  \\dot{\\textbf{x}} = A\\textbf{x} + \\textbf{f}(t),\\\\\n",
    "  \\textbf{x}(0) = \\textbf{x}_0,\n",
    "\\end{cases}\n",
    "$$\n",
    "where $A$ is a $2\\times 2$ matrix with real entries and $\\textbf{f}$ is a 2-dimensional real-vector-valued function dependent on only $t$. (*1.5 point*)"
   ]
  },
  {
   "cell_type": "markdown",
   "metadata": {
    "id": "fL3ANjclwISD"
   },
   "source": [
    "*Answer:*\n",
    "\n",
    "Solution is\n",
    "$$\n",
    "  \\textbf{x}(t) = \\Phi(t)x_0 +  \\Phi(t)\\int_{0}^{t}\\Phi^{-1}(s)f(s)ds,\n",
    "$$\n",
    "where \n",
    "$$\n",
    "  \\begin{cases}\n",
    "    x_0 = \\Big(\\begin{matrix} R_0 \\\\ J_0 \\end{matrix}\\Big)\\\\\n",
    "    \\Phi(t) \\text{ is the solution of the homogeneous ODE: } x' = Ax\\\\\n",
    "    \\Phi^{-1}(s) \\text{ is the inverse matrix of } \\Phi(s)\n",
    "  \\end{cases}\n",
    "$$"
   ]
  },
  {
   "cell_type": "markdown",
   "metadata": {
    "id": "Uejhay3rwt5t"
   },
   "source": [
    "3) Give two examples of Exercise 2.2. Then use the formula of the solution to find the solutions to the two examples. (*1.5 point*)"
   ]
  },
  {
   "cell_type": "markdown",
   "metadata": {
    "id": "8dHPQ_CAxINb"
   },
   "source": [
    "*Answer:*\n",
    "\n",
    "\n",
    "\n",
    "0.   Sample example: $A = \\begin{pmatrix} 1 & -1 \\\\ 2 & 1 \\end{pmatrix}$, $\\textbf{f}(t)=\\begin{pmatrix} t, t^2 \\end{pmatrix}$, and $\\textbf{x}_0 = \\begin{pmatrix}1 \\\\ 1\\end{pmatrix}$. Solution is\n",
    "$$\n",
    "  \\textbf{x}(t) = \\begin{pmatrix}e^tcos\\left(\\sqrt{2}t\\right)&e^tsin\\left(\\sqrt{2}t\\right)\\\\ \\:\\:\\:-4e^tsin\\left(\\sqrt{2}t\\right)&4e^tcos\\left(\\sqrt{2}t\\right)\\end{pmatrix}\\Biggl(\\begin{pmatrix} 1 \n",
    "  \\\\ 1 \\end{pmatrix} +  \\int_{0}^{t}\\begin{pmatrix}\\frac{\\cos \\left(\\sqrt{2}t\\right)}{e^t}&-\\frac{\\sin \\left(\\sqrt{2}t\\right)}{4e^t}\\\\ \n",
    "  \\frac{\\sin \\left(\\sqrt{2}t\\right)}{e^t}&\\frac{\\cos \\left(\\sqrt{2}t\\right)}{4e^t}\\end{pmatrix}\\begin{pmatrix} s \\\\ s^2 \\end{pmatrix}ds\\Biggl) \n",
    "$$\n",
    "1.   Example 1: $A = \\begin{pmatrix} -3 & 4 \\\\ -2 & 3 \\end{pmatrix}$, $\\textbf{f}(t)=\\begin{pmatrix} sin(t), t \\end{pmatrix}$, and $\\textbf{x}_0 = \\begin{pmatrix}0 \\\\ 1\\end{pmatrix}$. Solution is\n",
    "$$\n",
    "  \\textbf{x}(t) = \\begin{pmatrix}\\frac{7}{2}e^t - 3e^{-t} + \\frac{3}{2}sin(t) - \\frac{1}{2}cos(t) - 4t\\\\ \\frac{7}{2}e^t - \\frac{3}{2}e^{-t} + sin(t) - 3t -1\\end{pmatrix}\n",
    "$$\n",
    "2.   Example 2: $A = \\begin{pmatrix} 0 & 1 \\\\ -1 & 0 \\end{pmatrix}$, $\\textbf{f}(t)=\\begin{pmatrix} t-1, t^2 \\end{pmatrix}$, and $\\textbf{x}_0 = \\begin{pmatrix}-1 \\\\ 2\\end{pmatrix}$. Solution is\n",
    "$$\n",
    "  \\textbf{x}(t) = \\begin{pmatrix}sin(t) + t^2 -1\\\\ cos(t) + t + 1\\end{pmatrix}\n",
    "$$\n"
   ]
  },
  {
   "cell_type": "code",
   "execution_count": null,
   "metadata": {
    "id": "2PpdinV79TYh"
   },
   "outputs": [],
   "source": [
    "#Leave this empty!"
   ]
  },
  {
   "cell_type": "markdown",
   "metadata": {
    "id": "pAHZbbBW9fEY"
   },
   "source": [
    "# **Exercise 3 (*4.0 points*)**"
   ]
  },
  {
   "cell_type": "markdown",
   "metadata": {
    "id": "eZZ2rLdkSjxP"
   },
   "source": [
    "1) Complete the codes below. Do not change the function prototypes! (*2.0 points*)"
   ]
  },
  {
   "cell_type": "code",
   "execution_count": null,
   "metadata": {
    "id": "YPs0bsDq6f9o"
   },
   "outputs": [],
   "source": [
    "#Do not change these codes!\n",
    "import numpy as np\n",
    "from collections.abc import Callable\n",
    "\n",
    "import matplotlib.pyplot as plt\n",
    "plt.rcParams[\"figure.figsize\"] = (12, 12)\n",
    "\n",
    "Vector = np.array\n",
    "Matrix = np.array\n",
    "Function = Callable[[float, Vector], Vector]"
   ]
  },
  {
   "cell_type": "code",
   "execution_count": null,
   "metadata": {
    "id": "x2xTYCcB7MO0"
   },
   "outputs": [],
   "source": [
    "#Give 5 examples so that at least 3 of them are nonlinear cases!\n",
    "def example0(t: float, x: Vector) -> Vector:#Do not change this example\n",
    "  \"\"\"\n",
    "  The definition of 2-dimensional real-vector-valued\n",
    "  function f(t, x) in the ODE dx/dt = f(t, x)\n",
    "\n",
    "  t: real number\n",
    "  x: 2-dimensional real vector satisfying the ODE\n",
    "  \"\"\"\n",
    "  constant_case = Matrix([[1., -1.], [2., 1.]], dtype=float)\n",
    "  return np.matmul(constant_case, x)\n",
    "\n",
    "def example1(t: float, x: Vector) -> Vector:\n",
    "  \"\"\"\n",
    "  Global attractor node\n",
    "  \"\"\"\n",
    "  A = Matrix([ [-5, 1], [4, -2] ], dtype=float)\n",
    "  return np.matmul(A, x)\n",
    "\n",
    "\n",
    "def example2(t: float, x: Vector) -> Vector:\n",
    "  \"\"\"\n",
    "  Spiral outward\n",
    "  \"\"\"\n",
    "  A = Matrix([ [3, -13], [5, 1] ], dtype=float)\n",
    "  return np.matmul(A, x)\n",
    "\n",
    "def example3(t: float, x: Vector) -> Vector:\n",
    "  \"\"\"\n",
    "  Lotka–Volterra equation\n",
    "  \n",
    "  So:\n",
    "  dx/dt = 1.1x - 0.4xy\n",
    "  dy/dt = 0.1xy - 0.4y\n",
    "  \"\"\"\n",
    "  dx = 1.1*x[0] - 0.4*x[0]*x[1]\n",
    "  dy = 0.1*x[0]*x[1] - 0.4*x[1]\n",
    "  return Vector([ dx, dy ], dtype=float)\n",
    "\n",
    "def example4(t: float, x: Vector) -> Vector:\n",
    "  \"\"\"\n",
    "  Ideal gravity pendulum\n",
    "  \n",
    "  The motions of pendulum under effect of gravity (no friction) is described with\n",
    "  x'' = -g/l * sin(x)\n",
    "  with x as angle to vertical (radian) [-pi, pi]\n",
    "       g as local gravitational acceleration\n",
    "       l as length of the wire\n",
    "       \n",
    "  Assume g/l = 1, and turning it into a first order system, we have\n",
    "  x1' = x2\n",
    "  x2' = -sin(x1)\n",
    "  with x1 = x\n",
    "       x2 = x'\n",
    "  \"\"\"\n",
    "  dx1 = x[1]\n",
    "  dx2 = -np.sin(x[0])\n",
    "  return Vector([ dx1, dx2 ], dtype=float) \n",
    "\n",
    "def example5(t: float, x: Vector) -> Vector:\n",
    "  \"\"\"\n",
    "  Random function because running out of ideas\n",
    "  \n",
    "  x1' = sin(t + x2)\n",
    "  x2' = sin(-t + x1)\n",
    "  \"\"\"\n",
    "  dx1 = np.sin(t + x[1])\n",
    "  dx2 = np.sin(-t + x[0])\n",
    "  return Vector([ dx1, dx2 ], dtype=float) "
   ]
  },
  {
   "cell_type": "code",
   "execution_count": null,
   "metadata": {
    "id": "tNYLoeDp7f68"
   },
   "outputs": [],
   "source": [
    "#Explicit Euler Algorithm\n",
    "def explicit_euler(f: Function, t: float, x: Vector, h: float) -> Vector:\n",
    "  \"\"\"\n",
    "  The approximate of the exact solution to the ODE dx/dt = f(t, x) at\n",
    "  time t + h, x is the value of the solution at time t, h is the time step\n",
    "\n",
    "  t: real number\n",
    "  h: real number\n",
    "  x: 2-dimensional real vector\n",
    "  f: 2-dimensional real-vector-valued function \n",
    "  \"\"\"\n",
    "  delta = h * f(t, x)\n",
    "  return x + delta"
   ]
  },
  {
   "cell_type": "code",
   "execution_count": null,
   "metadata": {
    "id": "oWHDTHWK7t76"
   },
   "outputs": [],
   "source": [
    "#The following functions are used to write the implicit Euler algorithm\n",
    "def jacobian_x(f: Function, t: float, x: Vector, eps=1E-5) -> Matrix:\n",
    "  \"\"\"\n",
    "  Return the numerical approximate of the Jacobian matrix of the\n",
    "  2-dimensional real-vector-valued function f(t, x) with respect to x\n",
    "\n",
    "  t: real number\n",
    "  x: 2-dimensional real vector\n",
    "  eps: infinitesimal constant of the approximation\n",
    "  \"\"\"\n",
    "  # eps should be > 0, or else hell broke loose\n",
    "  if (eps <= 0.0):\n",
    "    raise ValueError(\"eps must be > 0\")\n",
    "  # find all the delta first, then divide by eps when returning\n",
    "  df1_x1 = f(t, x + Matrix([eps, 0]))[0] - f(t, x)[0]\n",
    "  df1_x2 = f(t, x + Matrix([0, eps]))[0] - f(t, x)[0]\n",
    "  df2_x1 = f(t, x + Matrix([eps, 0]))[1] - f(t, x)[1]\n",
    "  df2_x2 = f(t, x + Matrix([0, eps]))[1] - f(t, x)[1]\n",
    "  return Matrix([ [df1_x1, df1_x2], [df2_x1, df2_x2] ], dtype=float) / eps\n",
    "\n",
    "def solve_system(A: Matrix, b: Vector) -> Vector:\n",
    "  \"\"\"\n",
    "  Solution x to the system of linear equations Ax = b\n",
    "\n",
    "  x: 2-dimensional real vector\n",
    "  A: 2x2 matrix with real entries\n",
    "  b: 2-dimensional real vector\n",
    "\n",
    "  If the system does not have a solution, x will be the vector 0.\n",
    "  \"\"\"\n",
    "  # solve using cramer's rule\n",
    "  # A = (a1, b1 ; a2, b2), b = (c1, c2)\n",
    "  a1 = A[0][0]; a2 = A[1][0]\n",
    "  b1 = A[0][1]; b2 = A[1][1]\n",
    "  c1 = b[0]; c2 = b[1]\n",
    "  det_coeff = a1*b2 - b1*a2\n",
    "  det_x1 = c1*b2 - b1*c2\n",
    "  det_x2 = a1*c2 - c1*a2\n",
    "  if det_coeff != 0:\n",
    "    return Vector([det_x1/det_coeff, det_x2/det_coeff], dtype=float)\n",
    "  else:\n",
    "    # either no solution, or infinite solution\n",
    "    if det_x1 == 0:\n",
    "      # infinite sol, I have to idea what to do in this case, so just raise\n",
    "      raise ValueError(\"System have infinitely many solutions\")\n",
    "    else:\n",
    "      # no sol\n",
    "      return Vector([0, 0], dtype=float)\n",
    "\n",
    "#Implicit Euler Algorithm\n",
    "def implicit_euler(f: Function, t: float, x: Vector, h: float) -> Vector:\n",
    "  \"\"\"\n",
    "  The approximate of the exact solution to the ODE dx/dt = f(t, x) at\n",
    "  time t + h, x is the value of the solution at time t, h is the time step\n",
    "\n",
    "  t: real number\n",
    "  h: real number\n",
    "  x: 2-dimensional real vector\n",
    "  f: 2-dimensional real-vector-valued function \n",
    "  \"\"\"\n",
    "  # Implicit Euler method computation performs\n",
    "  #     x_n+1 = x_n + h * f(t + h, x_n+1) \n",
    "  # <=> h * f(t + h, x_n+1) - x_n+1 + x_n = 0\n",
    "  # We will use Newton method for estimating x_n+1 from the equality\n",
    "  #\n",
    "  # Define the function: \n",
    "  #     F(t, y) = h * f(t, y) - y + x_n\n",
    "  # with h, x_n already known\n",
    "  #\n",
    "  # We will try to solve the linear system:\n",
    "  #     JF(y_n) * (y_n+1 - y_n) = -F(t + h, y_n)\n",
    "  # with JF(y_n) as the Jacobian matrix of F wrt y_n at time t + h\n",
    "  # updating y_n to y_n+1 at each step, the end result will be the value of x_n+1 \n",
    "\n",
    "  x_n = x\n",
    "  def F(t: float, y: Vector) -> Vector: \n",
    "    return h * f(t, y) - y + x_n\n",
    "    \n",
    "  y_n = np.random.rand(2) # random starting point\n",
    "  for _ in range(30):\n",
    "    A = jacobian_x(F, t + h, y_n)\n",
    "    b = -F(t + h, y_n)\n",
    "    y_n += solve_system(A, b)\n",
    "  return y_n"
   ]
  },
  {
   "cell_type": "markdown",
   "metadata": {
    "id": "1Ri2YEH0PoSr"
   },
   "source": [
    "2) Write codes to obtain a similar plot to the [plot](https://tinyurl.com/4fpt9xvk) of the example example0 where $A=\\begin{pmatrix}1 & -1 \\\\ 2 & 1 \\end{pmatrix}$ the initial value $\\textbf{x}_0=\\begin{pmatrix}1 \\\\ 1\\end{pmatrix}$. The codes must also work for the other examples! (*2.0 points*)"
   ]
  },
  {
   "cell_type": "code",
   "execution_count": null,
   "metadata": {
    "id": "KSXsbD2rQs_m"
   },
   "outputs": [],
   "source": [
    "# Plot here!\n",
    "def discrete_approximate(method: Callable[[Function, float, float], Vector],\n",
    "                         f: Function,\n",
    "                         t0: float, x0: Vector, \n",
    "                         step_size: float, num_steps: int) -> (list[Vector], list[float]):\n",
    "    t_values = [t0]\n",
    "    x_values = [x0]\n",
    "    t = t0\n",
    "    x = x0\n",
    "    for _ in range(num_steps):\n",
    "        x = method(f, t, x, step_size)\n",
    "        t += step_size\n",
    "        t_values.append(t)\n",
    "        x_values.append(x)\n",
    "    return x_values, t_values\n",
    "\n",
    "def plot_fluctuation(ax, values: list[Vector], times: list[float], **kwargs):\n",
    "    # assume element of values are 2x1 vector\n",
    "    x1_values = [x[0] for x in values]\n",
    "    x2_values = [x[1] for x in values]\n",
    "    \n",
    "    ax.plot(times, x1_values, \n",
    "            label=kwargs['label1'] if 'label1' in kwargs else 'Unknown')\n",
    "    ax.plot(times, x2_values, \n",
    "            label=kwargs['label2'] if 'label2' in kwargs else 'Unknown')\n",
    "    ax.legend()\n",
    "    \n",
    "    if 'xlabel' in kwargs:\n",
    "        ax.set_xlabel(kwargs['xlabel'])\n",
    "    if 'ylabel' in kwargs:\n",
    "        ax.set_ylabel(kwargs['ylabel'])\n",
    "    if 'title' in kwargs:\n",
    "        ax.set_title(kwargs['title'])\n",
    "\n",
    "def plot_portrait(ax, values: list[Vector], \n",
    "                  f: Function, # for calculating direction vector\n",
    "                  **kwargs):\n",
    "    # assume element of values are 2x1 vector\n",
    "    x1_values = [x[0] for x in values]\n",
    "    x2_values = [x[1] for x in values]\n",
    "    ax.plot(x1_values, x2_values, marker='.', color='tab:brown', linestyle='none')\n",
    "    \n",
    "    x = np.linspace(*ax.get_xlim(), 20)\n",
    "    y = np.linspace(*ax.get_ylim(), 20)\n",
    "    X, Y = np.meshgrid(x, y)\n",
    "    dX = X.copy()\n",
    "    dY = Y.copy()\n",
    "    for ix in range(len(X)):\n",
    "        for iy in range(len(X[0])):\n",
    "            # assume time = 0, because there is no way to \n",
    "            # visualize vector field that change with time with only 1 plot\n",
    "            dX[ix, iy], dY[ix, iy] = f(0, [X[ix, iy], Y[ix, iy]]);\n",
    "    ax.quiver(X, Y, dX, dY)\n",
    "    \n",
    "    if 'xlabel' in kwargs:\n",
    "        ax.set_xlabel(kwargs['xlabel'])\n",
    "    if 'ylabel' in kwargs:\n",
    "        ax.set_ylabel(kwargs['ylabel'])\n",
    "    if 'title' in kwargs:\n",
    "        ax.set_title(kwargs['title'])\n",
    "\n",
    "def plot_explicit_euler(f: Function, t0: float, x0: Vector, h: float, num_steps: int):\n",
    "    x_values, t_values = discrete_approximate(explicit_euler, f, t0, x0, h, num_steps)\n",
    "    fig, (ax1, ax2) = plt.subplots(1, 2, figsize=(12, 6))\n",
    "    ax1.set_box_aspect(1)\n",
    "    ax2.set_box_aspect(1)\n",
    "    \n",
    "    ax1.set_ylim([-100, 100])\n",
    "    plot_fluctuation(ax1, x_values, t_values, \n",
    "                     label1 = 'Romeo', \n",
    "                     label2 = 'Juliet',\n",
    "                     xlabel = 'Time',\n",
    "                     ylabel = 'Love for the other',\n",
    "                     title = 'Fluctuation_Explicit')\n",
    "    \n",
    "    ax2.set_xlim([-100, 100])\n",
    "    ax2.set_ylim([-100, 100])\n",
    "    plot_portrait(ax2, x_values, f, \n",
    "                  xlabel = \"Romeo's Love\",\n",
    "                  ylabel = \"Juliet's Love\",\n",
    "                  title = 'Phase Portrait_Explicit')\n",
    "\n",
    "    plt.show()\n",
    "    \n",
    "def plot_implicit_euler(f: Function, t0: float, x0: Vector, h: float, num_steps: int):\n",
    "    x_values, t_values = discrete_approximate(implicit_euler, f, t0, x0, h, num_steps)\n",
    "    fig, (ax1, ax2) = plt.subplots(1, 2, figsize=(12, 6))\n",
    "    ax1.set_box_aspect(1)\n",
    "    ax2.set_box_aspect(1)\n",
    "    \n",
    "    ax1.set_ylim([-100, 100])\n",
    "    plot_fluctuation(ax1, x_values, t_values, \n",
    "                     label1 = 'Romeo', \n",
    "                     label2 = 'Juliet',\n",
    "                     xlabel = 'Time',\n",
    "                     ylabel = 'Love for the other',\n",
    "                     title = 'Fluctuation_Implicit')\n",
    "    \n",
    "    ax2.set_xlim([-100, 100])\n",
    "    ax2.set_ylim([-100, 100])\n",
    "    plot_portrait(ax2, x_values, f, \n",
    "                  xlabel = \"Romeo's Love\",\n",
    "                  ylabel = \"Juliet's Love\",\n",
    "                  title = 'Phase Portrait_Implicit')\n",
    "    \n",
    "    plt.show()"
   ]
  },
  {
   "cell_type": "markdown",
   "metadata": {},
   "source": [
    "2.1. Plot for `example0`"
   ]
  },
  {
   "cell_type": "code",
   "execution_count": null,
   "metadata": {
    "id": "KSXsbD2rQs_m",
    "scrolled": true
   },
   "outputs": [],
   "source": [
    "t0 = 0.0\n",
    "x0 = np.array([1, 1], dtype=float)\n",
    "h = 0.01\n",
    "num_steps = 600\n",
    "\n",
    "plot_explicit_euler(example0, t0, x0, h, num_steps)\n",
    "plot_implicit_euler(example0, t0, x0, h, num_steps)"
   ]
  },
  {
   "cell_type": "markdown",
   "metadata": {},
   "source": [
    "2.2. Plot for `example1` - global attractor node"
   ]
  },
  {
   "cell_type": "code",
   "execution_count": null,
   "metadata": {
    "scrolled": true
   },
   "outputs": [],
   "source": [
    "t0 = 0.0\n",
    "x0 = np.array([50, 50], dtype=float)\n",
    "h = 0.01\n",
    "num_steps = 600\n",
    "\n",
    "plot_explicit_euler(example1, t0, x0, h, num_steps)\n",
    "plot_implicit_euler(example1, t0, x0, h, num_steps)"
   ]
  },
  {
   "cell_type": "markdown",
   "metadata": {},
   "source": [
    "2.3. Plot for `example2` - Spiral outward"
   ]
  },
  {
   "cell_type": "code",
   "execution_count": null,
   "metadata": {
    "scrolled": true
   },
   "outputs": [],
   "source": [
    "t0 = 0.0\n",
    "x0 = np.array([1, 1], dtype=float)\n",
    "h = 0.005\n",
    "num_steps = 500\n",
    "\n",
    "plot_explicit_euler(example2, t0, x0, h, num_steps)\n",
    "plot_implicit_euler(example2, t0, x0, h, num_steps)"
   ]
  },
  {
   "cell_type": "markdown",
   "metadata": {},
   "source": [
    "2.4. Plot for `example3` - Lotka–Volterra equation"
   ]
  },
  {
   "cell_type": "code",
   "execution_count": null,
   "metadata": {
    "scrolled": true
   },
   "outputs": [],
   "source": [
    "t0 = 0.0\n",
    "x0 = np.array([10, 10], dtype=float)\n",
    "h = 0.03\n",
    "num_steps = 2500\n",
    "\n",
    "x_values, t_values = discrete_approximate(explicit_euler, example3, t0, x0, h, num_steps)\n",
    "fig, (ax1, ax2) = plt.subplots(1, 2, figsize=(12, 6))\n",
    "ax1.set_box_aspect(1)\n",
    "ax2.set_box_aspect(1)\n",
    "\n",
    "plot_fluctuation(ax1, x_values, t_values, \n",
    "                 label1 = 'Prey', \n",
    "                 label2 = 'Predator',\n",
    "                 xlabel = 'Time',\n",
    "                 ylabel = 'Population Density',\n",
    "                 title = 'Fluctuation_Explicit')\n",
    "\n",
    "plot_portrait(ax2, x_values, example3, \n",
    "              xlabel = \"Prey pop density\",\n",
    "              ylabel = \"Predator pop density\",\n",
    "              title = 'Phase Portrait_Explicit')\n",
    "\n",
    "plt.show()\n",
    "\n",
    "x_values, t_values = discrete_approximate(implicit_euler, example3, t0, x0, h, num_steps)\n",
    "fig, (ax1, ax2) = plt.subplots(1, 2, figsize=(12, 6))\n",
    "ax1.set_box_aspect(1)\n",
    "ax2.set_box_aspect(1)\n",
    "\n",
    "plot_fluctuation(ax1, x_values, t_values, \n",
    "                 label1 = 'Prey', \n",
    "                 label2 = 'Predator',\n",
    "                 xlabel = 'Time',\n",
    "                 ylabel = 'Population Density',\n",
    "                 title = 'Fluctuation_Implicit')\n",
    "\n",
    "plot_portrait(ax2, x_values, example3, \n",
    "              xlabel = \"Prey pop density\",\n",
    "              ylabel = \"Predator pop density\",\n",
    "              title = 'Phase Portrait_Implicit')\n",
    "\n",
    "plt.show()"
   ]
  },
  {
   "cell_type": "markdown",
   "metadata": {},
   "source": [
    "2.5. Plot for `example4` - Ideal gravity pendulum"
   ]
  },
  {
   "cell_type": "code",
   "execution_count": null,
   "metadata": {
    "scrolled": true
   },
   "outputs": [],
   "source": [
    "t0 = 0.0\n",
    "x0 = np.array([1, 0], dtype=float)\n",
    "h = 0.02\n",
    "num_steps = 1000\n",
    "\n",
    "x_values, t_values = discrete_approximate(explicit_euler, example4, t0, x0, h, num_steps)\n",
    "fig, (ax1, ax2) = plt.subplots(1, 2, figsize=(12, 6))\n",
    "ax1.set_box_aspect(1)\n",
    "ax2.set_box_aspect(1)\n",
    "\n",
    "plot_fluctuation(ax1, x_values, t_values, \n",
    "                 label1 = 'Angle from vertical', \n",
    "                 label2 = 'Angular velocity',\n",
    "                 xlabel = 'Time',\n",
    "                 title = 'Fluctuation_Explicit')\n",
    "\n",
    "plot_portrait(ax2, x_values, example4, \n",
    "              xlabel = 'Angle from vertical',\n",
    "              ylabel = 'Angular velocity',\n",
    "              title = 'Phase Portrait_Explicit')\n",
    "\n",
    "plt.show()\n",
    "\n",
    "x_values, t_values = discrete_approximate(implicit_euler, example4, t0, x0, h, num_steps)\n",
    "fig, (ax1, ax2) = plt.subplots(1, 2, figsize=(12, 6))\n",
    "ax1.set_box_aspect(1)\n",
    "ax2.set_box_aspect(1)\n",
    "\n",
    "plot_fluctuation(ax1, x_values, t_values, \n",
    "                 label1 = 'Angle from vertical', \n",
    "                 label2 = 'Angular velocity',\n",
    "                 xlabel = 'Time',\n",
    "                 title = 'Fluctuation_Implicit')\n",
    "\n",
    "plot_portrait(ax2, x_values, example4, \n",
    "              xlabel = 'Angle from vertical',\n",
    "              ylabel = 'Angular velocity',\n",
    "              title = 'Phase Portrait_Implicit')\n",
    "\n",
    "plt.show()"
   ]
  },
  {
   "cell_type": "markdown",
   "metadata": {},
   "source": [
    "2.6. Plot for `example5` - Random function, no phase portrait is possible 'cause $f$ is dependent on $t$"
   ]
  },
  {
   "cell_type": "code",
   "execution_count": null,
   "metadata": {
    "scrolled": true
   },
   "outputs": [],
   "source": [
    "t0 = 0.0\n",
    "x0 = np.array([1, 0], dtype=float)\n",
    "h = 0.02\n",
    "num_steps = 1000\n",
    "\n",
    "x_values, t_values = discrete_approximate(explicit_euler, example5, t0, x0, h, num_steps)\n",
    "fig, (ax1, ax2) = plt.subplots(1, 2, figsize=(12, 6))\n",
    "ax1.set_box_aspect(1)\n",
    "ax2.set_box_aspect(1)\n",
    "\n",
    "plot_fluctuation(ax1, x_values, t_values, \n",
    "                 label1 = 'x1', \n",
    "                 label2 = 'x2',\n",
    "                 xlabel = 'Time',\n",
    "                 title = 'Fluctuation_Explicit')\n",
    "\n",
    "x_values, t_values = discrete_approximate(implicit_euler, example5, t0, x0, h, num_steps)\n",
    "\n",
    "plot_fluctuation(ax2, x_values, t_values, \n",
    "                 label1 = 'x1', \n",
    "                 label2 = 'x2',\n",
    "                 xlabel = 'Time',\n",
    "                 title = 'Fluctuation_Implicit')\n",
    "\n",
    "plt.show()"
   ]
  },
  {
   "cell_type": "code",
   "execution_count": null,
   "metadata": {
    "id": "14ISgtLP9V51"
   },
   "outputs": [],
   "source": [
    "#Leave this empty!"
   ]
  },
  {
   "cell_type": "markdown",
   "metadata": {
    "id": "sS9E9hHz9rap"
   },
   "source": [
    "# **References**"
   ]
  },
  {
   "cell_type": "markdown",
   "metadata": {
    "id": "ChZsSCqZ9wp4"
   },
   "source": [
    "List all of your references here!\n",
    "\n",
    "\n",
    "1. Paul Dawkins. Paul's Online Note [Internet] - https://tutorial.math.lamar.edu/Classes/DE/DE.aspx\n",
    "\n",
    "2. Wikipedia contributors. Jacobian matrix and determinant [Internet]. Wikipedia, The Free Encyclopedia; 2023 Apr 12, 10:21 UTC [cited 2023 May 4]. Available from: https://en.wikipedia.org/w/index.php?title=Jacobian_matrix_and_determinant&oldid=1149454554.\n",
    "\n",
    "3. Wikipedia contributors. Newton's method [Internet]. Wikipedia, The Free Encyclopedia; 2023 Apr 27, 09:50 UTC [cited 2023 May 4]. Available from: https://en.wikipedia.org/w/index.php?title=Newton%27s_method&oldid=1151966904.\n",
    "\n",
    "4. Wikipedia contributors. Backward Euler method [Internet]. Wikipedia, The Free Encyclopedia; 2023 Mar 23, 05:10 UTC [cited 2023 May 4]. Available from: https://en.wikipedia.org/w/index.php?title=Backward_Euler_method&oldid=1146169444. "
   ]
  },
  {
   "cell_type": "markdown",
   "metadata": {
    "id": "h7M-FMp19-BE"
   },
   "source": [
    "\n",
    "\n",
    "---\n",
    "\n"
   ]
  },
  {
   "cell_type": "markdown",
   "metadata": {
    "id": "v4xWYQHf-BIH"
   },
   "source": [
    "# Exercise 4 (Optional)\n",
    "You should provide the answer to this question as a separate Ipython notebook!"
   ]
  },
  {
   "cell_type": "code",
   "execution_count": null,
   "metadata": {
    "id": "4OzOH3MB9W_-"
   },
   "outputs": [],
   "source": [
    "#Leave this empty!"
   ]
  },
  {
   "cell_type": "markdown",
   "metadata": {
    "id": "VjJ3qShiA2Xk"
   },
   "source": [
    "\n",
    "\n",
    "---\n",
    "\n"
   ]
  },
  {
   "cell_type": "code",
   "execution_count": null,
   "metadata": {},
   "outputs": [],
   "source": []
  }
 ],
 "metadata": {
  "colab": {
   "provenance": []
  },
  "kernelspec": {
   "display_name": "Python 3 (ipykernel)",
   "language": "python",
   "name": "python3"
  },
  "language_info": {
   "codemirror_mode": {
    "name": "ipython",
    "version": 3
   },
   "file_extension": ".py",
   "mimetype": "text/x-python",
   "name": "python",
   "nbconvert_exporter": "python",
   "pygments_lexer": "ipython3",
   "version": "3.11.2"
  }
 },
 "nbformat": 4,
 "nbformat_minor": 1
}
