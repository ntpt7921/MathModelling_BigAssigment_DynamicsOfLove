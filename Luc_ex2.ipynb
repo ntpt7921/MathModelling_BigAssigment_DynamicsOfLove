{
 "cells": [
  {
   "cell_type": "code",
   "execution_count": null,
   "metadata": {
    "id": "IxNeh21snm8x"
   },
   "outputs": [],
   "source": [
    "#Leave this empty!"
   ]
  },
  {
   "cell_type": "markdown",
   "metadata": {
    "id": "p-UFRnUrZP6i"
   },
   "source": [
    "\n",
    "\n",
    "---\n",
    "\n",
    "\n",
    "*This answer sheet is used for answering the excercises of the assignment \"Dynamics of Love\" (Semester 2/Academic Year 2022-2023) - © Thinh Nguyen*\n",
    "\n",
    "*Student(s):*\n",
    "$$\n",
    "\\begin{array}{lllll}\n",
    "\\hline\n",
    "\\textbf{No.} & \\textbf{Fullname} & \\textbf{ID} & \\textbf{Group} & \\textbf{Contribution}\\\\\n",
    "\\hline\n",
    "1 & \\textrm{Nguyễn Văn X} & 2015001 & \\textrm{CC0x} & 50\\% \\\\\n",
    "2 & \\textrm{Trần Thị Y} & 2015002 & \\textrm{CC0y} & 50\\% \\\\\n",
    "\\hline\n",
    "\\end{array}\n",
    "$$\n",
    "\n",
    "\\\\\n",
    "\n",
    "For these exercises use the following system of ODEs (Ordinary Differential Equations)\n",
    "$$\n",
    "\\begin{cases}\n",
    "  \\dot{\\textbf{x}} = \\textbf{f}(t, \\textbf{x}),\\\\\n",
    "  \\textbf{x}(0) = \\textbf{x}_0,\n",
    "\\end{cases}\n",
    "$$\n",
    "where $\\textbf{x}=\\textbf{x}(t)$ a 2-dimensional real vector dependent on time $t\\ge 0$ and $\\textbf{f}$ is a 2-dimensional real-vector-valued function dependent on time $t$ and $\\textbf{x}$. As an example, $\\textbf{f}(t, \\textbf{x})=A\\textbf{x}$, where $A$ is a constant $2\\times 2$ matrix with real entries.\n",
    "\n",
    "Let's call the system above system (1).\n",
    "\n",
    "---\n",
    "\n"
   ]
  },
  {
   "cell_type": "code",
   "execution_count": null,
   "metadata": {
    "id": "wKqpfbPQniNT"
   },
   "outputs": [],
   "source": [
    "#Leave this empty!"
   ]
  },
  {
   "cell_type": "markdown",
   "metadata": {
    "id": "osg7nJXD2h3y"
   },
   "source": [
    "**Important notes:**\n",
    "\n",
    "\n",
    "*   For each small question, if the answer is not complete, the score of the answer will be **50% of the score of the complete part of the answer**. If the answer is not readable, the score of it will be **0**.\n",
    "*   For Exercise 4, use only the libraries numpy and matplotlib. For the function *jacobian_x* and the function *solve_system*, do not use any function that are similar to them provided in numpy.\n",
    "\n"
   ]
  },
  {
   "cell_type": "code",
   "execution_count": null,
   "metadata": {
    "id": "9P2sndbB9DWQ"
   },
   "outputs": [],
   "source": [
    "#Leave this empty!"
   ]
  },
  {
   "cell_type": "markdown",
   "metadata": {
    "id": "zarick9ZSEM2"
   },
   "source": [
    "# **Exercise 1 (*2.0 points*)**"
   ]
  },
  {
   "cell_type": "markdown",
   "metadata": {
    "id": "69BsYkDqTDmV"
   },
   "source": [
    "1) Find the 3 formulae of the exact solution to the system (1) in the constant linear case where $\\textbf{f}(t, \\textbf{x})=A\\textbf{x}$ in terms of the eigenvalues $\\lambda_1$ and $\\lambda_2$ of $A$. All of the coefficients must be written explicitly without leading to any equation! (*1.0 point*)"
   ]
  },
  {
   "cell_type": "markdown",
   "metadata": {
    "id": "k_iIH7T8W_GG"
   },
   "source": [
    "*Answer:*\n",
    "\n",
    "\n",
    "1.   $\\lambda_1, \\lambda_2\\in\\mathbb R, \\lambda_1\\ne \\lambda_2$:\n",
    "\n",
    "    $$\n",
    "      \\textbf{x}(t) = \n",
    "    $$\n",
    "2.   $\\lambda_1, \\lambda_2\\in\\mathbb R, \\lambda_1=\\lambda_2$:\n",
    "\n",
    "    $$\n",
    "      \\textbf{x}(t) = \n",
    "    $$\n",
    "\n",
    "3. $\\lambda_1, \\lambda_2\\in\\mathbb C, \\lambda_1= a+ib, \\lambda_2=a-ib$:\n",
    "\n",
    "    $$\n",
    "      \\textbf{x}(t) =\n",
    "    $$"
   ]
  },
  {
   "cell_type": "markdown",
   "metadata": {
    "id": "c4Gozsu8bapr"
   },
   "source": [
    "2) Complete the phase-portrait table with these types: Spiral, Center, Saddle, and Node. (*1.0 point*)"
   ]
  },
  {
   "cell_type": "markdown",
   "metadata": {
    "id": "61Ik5oHfkkmW"
   },
   "source": [
    "*Answer:*\n",
    "\n",
    "$$\n",
    "\\begin{array}{ccccc}\n",
    "\\hline\n",
    "\\textrm{Re}\\,\\lambda_1 & \\textrm{Re}\\,\\lambda_2 & |\\textrm{Im}\\,\\lambda_1| & |\\textrm{Im}\\,\\lambda_2| & \\textbf{Type}\\\\\n",
    "\\hline\n",
    "+ & + & 0 & 0 & \\\\\n",
    "+ & - & 0 & 0 & \\\\\n",
    "- & - & 0 & 0 & \\\\\n",
    "+ & + & + & + & \\\\\n",
    "- & - & + & + & \\\\\n",
    "0 & 0 & + & + & \\\\\n",
    "\\hline\n",
    "\\end{array}\n",
    "$$"
   ]
  },
  {
   "cell_type": "code",
   "execution_count": null,
   "metadata": {
    "id": "y7nld6nM9NoL"
   },
   "outputs": [],
   "source": [
    "#Leave this empty!"
   ]
  },
  {
   "cell_type": "markdown",
   "metadata": {
    "id": "NDRhKBKTSIkS"
   },
   "source": [
    "# **Exercise 2 (*4.0 points*)**"
   ]
  },
  {
   "cell_type": "markdown",
   "metadata": {
    "id": "dv91u7y4qYoH"
   },
   "source": [
    "1) Give 5 examples of the coefficient matrix $A$ and initial condition $\\textbf{x}_0$. Then use the formulae in Exercise 1 to find the solution $\\textbf{x}$ explicitly. (*1.0 point*) "
   ]
  },
  {
   "cell_type": "markdown",
   "metadata": {
    "id": "OXRDzG4qtLCc"
   },
   "source": [
    "*Answer:*\n",
    "\n",
    "\n",
    "0.   Sample example: $A = \\begin{pmatrix} 1 & -1 \\\\ 2 & 1 \\end{pmatrix}$ and $\\textbf{x}_0 = \\begin{pmatrix}1 \\\\ 1\\end{pmatrix}$. Solution is\n",
    "$$\n",
    "  \\textbf{x}(t) = \\Biggl[\\begin{pmatrix}1 \\\\ 0\\end{pmatrix} cos(2t)-\\begin{pmatrix}0 \\\\ 4\\end{pmatrix}sin(2t)+ \\frac{- \\sqrt{2}}{2}\\Bigl(\\begin{pmatrix} 0 \\\\ 4 \\end{pmatrix}cos(2t)+ \\begin{pmatrix}1 \\\\ 0\\end{pmatrix}sin(2t)\\Bigl)\\Biggl]e^{t} \n",
    "$$\n",
    "1.   Example 1: $A = \\begin{pmatrix} 3 & 1 \\\\ 4 & 3 \\end{pmatrix}$ and $\\textbf{x}_0 = \\begin{pmatrix}1 \\\\ -5\\end{pmatrix}$. Solution is\n",
    "$$\n",
    "  \\textbf{x}(t) = \\frac{-3}{4}e^{5t}\\begin{pmatrix}1 \\\\ 2\\end{pmatrix}+ \\frac{7}{4}e^{t}\\begin{pmatrix}1 \\\\ -2\\end{pmatrix} \n",
    "$$\n",
    "2.   Example 2: $A = \\begin{pmatrix} 2 & 11 \\\\ 6 & -3 \\end{pmatrix}$ and $\\textbf{x}_0 = \\begin{pmatrix}15 \\\\ 2\\end{pmatrix}$. Solution is\n",
    "$$\n",
    "  \\textbf{x}(t) = e^{8t}\\begin{pmatrix}11 \\\\ 6\\end{pmatrix}+ 4e^{-9t}\\begin{pmatrix}1 \\\\ -1\\end{pmatrix} \n",
    "$$\n",
    "3.   Example 3: $A = \\begin{pmatrix} 1 & 4 \\\\ -4 & -7 \\end{pmatrix}$ and $\\textbf{x}_0 = \\begin{pmatrix}1 \\\\ 0\\end{pmatrix}$. Solution is\n",
    "$$\n",
    "  \\textbf{x}(t) = \\Biggl[\\begin{pmatrix}1 \\\\ -1\\end{pmatrix}+ 4\\Biggl(\\begin{pmatrix}1 \\\\ -1\\end{pmatrix}t+ \\begin{pmatrix}0 \\\\ 1\\end{pmatrix}\\Biggl)\\Biggl]e^{-3t} \n",
    "$$\n",
    "4.   Example 4: $A = \\begin{pmatrix} -2 & 1 \\\\ -5 & 2 \\end{pmatrix}$ and $\\textbf{x}_0 = \\begin{pmatrix}1 \\\\ 5\\end{pmatrix}$. Solution is\n",
    "$$\n",
    "  \\textbf{x}(t) = \\Biggl(\\begin{pmatrix}1 \\\\ 2\\end{pmatrix} cos(t)-\\begin{pmatrix}0 \\\\ 1\\end{pmatrix}sin(t)\\Biggl) +3\\Biggl(\\begin{pmatrix}0 \\\\ 1\\end{pmatrix} cos(t)+\\begin{pmatrix}1 \\\\ 2\\end{pmatrix}sin(t)\\Biggl) \n",
    "$$\n",
    "5.   Example 5: $A = \\begin{pmatrix} -7 & -5 \\\\ -3 & -5 \\end{pmatrix}$ and $\\textbf{x}_0 = \\begin{pmatrix}6 \\\\ -2\\end{pmatrix}$. Solution is\n",
    "$$\n",
    "  \\textbf{x}(t) = 5e^{-2t}\\begin{pmatrix}1 \\\\ -1\\end{pmatrix}+ e^{-10t}\\begin{pmatrix}1 \\\\ 7\\end{pmatrix}\n",
    "$$"
   ]
  },
  {
   "cell_type": "markdown",
   "metadata": {
    "id": "YRtyQz0HvY2j"
   },
   "source": [
    "2) Find the formula of the solution to system of \"non-homogeneous\" ODEs\n",
    "$$\n",
    "\\begin{cases}\n",
    "  \\dot{\\textbf{x}} = A\\textbf{x} + \\textbf{f}(t),\\\\\n",
    "  \\textbf{x}(0) = \\textbf{x}_0,\n",
    "\\end{cases}\n",
    "$$\n",
    "where $A$ is a $2\\times 2$ matrix with real entries and $\\textbf{f}$ is a 2-dimensional real-vector-valued function dependent on only $t$. (*1.5 point*)"
   ]
  },
  {
   "cell_type": "markdown",
   "metadata": {
    "id": "fL3ANjclwISD"
   },
   "source": [
    "*Answer:*\n",
    "\n",
    "Solution is\n",
    "$$\n",
    "  \\textbf{x}(t) = \\Phi(t)x_0 +  \\Phi(t)\\int_{0}^{t}\\Phi^{-1}(s)f(s)ds,\n",
    "$$\n",
    "where \n",
    "$$\n",
    "  \\begin{cases}\n",
    "    x_0 = \\Big(\\begin{matrix} R_0 \\\\ J_0 \\end{matrix}\\Big)\\\\\n",
    "    \\Phi(t) \\textnormal{ is the solution of the homogeneous ODE: } x' = Ax\\\\\n",
    "    \\Phi^{-1}(s) \\textnormal{ is the inverse matrix of } \\Phi(s)\n",
    "  \\end{cases}\n",
    "$$"
   ]
  },
  {
   "cell_type": "markdown",
   "metadata": {
    "id": "Uejhay3rwt5t"
   },
   "source": [
    "3) Give two examples of Exercise 2.2. Then use the formula of the solution to find the solutions to the two examples. (*1.5 point*)"
   ]
  },
  {
   "cell_type": "markdown",
   "metadata": {
    "id": "8dHPQ_CAxINb"
   },
   "source": [
    "*Answer:*\n",
    "\n",
    "\n",
    "\n",
    "0.   Sample example: $A = \\begin{pmatrix} 1 & -1 \\\\ 2 & 1 \\end{pmatrix}$, $\\textbf{f}(t)=\\begin{pmatrix} t, t^2 \\end{pmatrix}$, and $\\textbf{x}_0 = \\begin{pmatrix}1 \\\\ 1\\end{pmatrix}$. Solution is\n",
    "$$\n",
    "  \\textbf{x}(t) = \\begin{pmatrix}e^tcos\\left(\\sqrt{2}t\\right)&e^tsin\\left(\\sqrt{2}t\\right)\\\\ \\:\\:\\:-4e^tsin\\left(\\sqrt{2}t\\right)&4e^tcos\\left(\\sqrt{2}t\\right)\\end{pmatrix}\\Biggl(\\begin{pmatrix} 1 \n",
    "  \\\\ 1 \\end{pmatrix} +  \\int_{0}^{t}\\begin{pmatrix}\\frac{\\cos \\left(\\sqrt{2}t\\right)}{e^t}&-\\frac{\\sin \\left(\\sqrt{2}t\\right)}{4e^t}\\\\ \n",
    "  \\frac{\\sin \\left(\\sqrt{2}t\\right)}{e^t}&\\frac{\\cos \\left(\\sqrt{2}t\\right)}{4e^t}\\end{pmatrix}\\begin{pmatrix} s \\\\ s^2 \\end{pmatrix}ds\\Biggl) \n",
    "$$\n",
    "1.   Example 1: $A = \\begin{pmatrix} -3 & 4 \\\\ -2 & 3 \\end{pmatrix}$, $\\textbf{f}(t)=\\begin{pmatrix} sin(t), t \\end{pmatrix}$, and $\\textbf{x}_0 = \\begin{pmatrix}0 \\\\ 1\\end{pmatrix}$. Solution is\n",
    "$$\n",
    "  \\textbf{x}(t) = \\begin{pmatrix}\\frac{7}{2}e^t - 3e^{-t} + \\frac{3}{2}sin(t) - \\frac{1}{2}cos(t) - 4t\\\\ \\frac{7}{2}e^t - \\frac{3}{2}e^{-t} + sin(t) - 3t -1\\end{pmatrix}\n",
    "$$\n",
    "2.   Example 2: $A = \\begin{pmatrix} 0 & 1 \\\\ -1 & 0 \\end{pmatrix}$, $\\textbf{f}(t)=\\begin{pmatrix} t-1, t^2 \\end{pmatrix}$, and $\\textbf{x}_0 = \\begin{pmatrix}-1 \\\\ 2\\end{pmatrix}$. Solution is\n",
    "$$\n",
    "  \\textbf{x}(t) = \\begin{pmatrix}sin(t) + t^2 -1\\\\ cos(t) + t + 1\\end{pmatrix}\n",
    "$$\n"
   ]
  },
  {
   "cell_type": "code",
   "execution_count": null,
   "metadata": {
    "id": "2PpdinV79TYh"
   },
   "outputs": [],
   "source": [
    "#Leave this empty!"
   ]
  },
  {
   "cell_type": "markdown",
   "metadata": {
    "id": "pAHZbbBW9fEY"
   },
   "source": [
    "# **Exercise 3 (*4.0 points*)**"
   ]
  },
  {
   "cell_type": "markdown",
   "metadata": {
    "id": "eZZ2rLdkSjxP"
   },
   "source": [
    "1) Complete the codes below. Do not change the function prototypes! (*2.0 points*)"
   ]
  },
  {
   "cell_type": "code",
   "execution_count": null,
   "metadata": {
    "id": "YPs0bsDq6f9o"
   },
   "outputs": [],
   "source": [
    "#Do not change these codes!\n",
    "import numpy as np\n",
    "from collections.abc import Callable\n",
    "\n",
    "import matplotlib.pyplot as plt\n",
    "plt.rcParams[\"figure.figsize\"] = (12, 12)\n",
    "\n",
    "Vector = np.array\n",
    "Matrix = np.array\n",
    "Function = Callable[[float, Vector], Vector]"
   ]
  },
  {
   "cell_type": "code",
   "execution_count": null,
   "metadata": {
    "id": "x2xTYCcB7MO0"
   },
   "outputs": [],
   "source": [
    "#Give 5 examples so that at least 3 of them are nonlinear cases!\n",
    "def example0(t: float, x: Vector) -> Vector:#Do not change this example\n",
    "  \"\"\"\n",
    "  The definition of 2-dimensional real-vector-valued\n",
    "  function f(t, x) in the ODE dx/dt = f(t, x)\n",
    "\n",
    "  t: real number\n",
    "  x: 2-dimensional real vector satisfying the ODE\n",
    "  \"\"\"\n",
    "  constant_case = Matrix([[1., -1.], [2., 1.]], dtype=float)\n",
    "  return np.matmul(constant_case, x)\n",
    "\n",
    "def example1(t: float, x: Vector) -> Vector:\n",
    "  pass\n",
    "\n",
    "def example2(t: float, x: Vector) -> Vector:\n",
    "  pass\n",
    "\n",
    "def example3(t: float, x: Vector) -> Vector:\n",
    "  pass\n",
    "\n",
    "def example4(t: float, x: Vector) -> Vector:\n",
    "  pass\n",
    "\n",
    "def example5(t: float, x: Vector) -> Vector:\n",
    "  pass"
   ]
  },
  {
   "cell_type": "code",
   "execution_count": null,
   "metadata": {
    "id": "tNYLoeDp7f68"
   },
   "outputs": [],
   "source": [
    "#Explicit Euler Algorithm\n",
    "def explicit_euler(f: Function, t: float, x: Vector, h: float) -> Vector:\n",
    "  \"\"\"\n",
    "  The approximate of the exact solution to the ODE dx/dt = f(t, x) at\n",
    "  time t + h, x is the value of the solution at time t, h is the time step\n",
    "\n",
    "  t: real number\n",
    "  h: real number\n",
    "  x: 2-dimensional real vector\n",
    "  f: 2-dimensional real-vector-valued function \n",
    "  \"\"\"\n",
    "  pass"
   ]
  },
  {
   "cell_type": "code",
   "execution_count": null,
   "metadata": {
    "id": "oWHDTHWK7t76"
   },
   "outputs": [],
   "source": [
    "#The following functions are used to write the implicit Euler algorithm\n",
    "def jacobian_x(f: Function, t: float, x: Vector, eps=1E-5) -> Matrix:\n",
    "  \"\"\"\n",
    "  Return the numerical approximate of the Jacobian matrix of the\n",
    "  2-dimensional real-vector-valued function f(t, x) with respect to x\n",
    "\n",
    "  t: real number\n",
    "  x: 2-dimensional real vector\n",
    "  eps: infinitesimal constant of the approximation\n",
    "  \"\"\"\n",
    "  pass\n",
    "\n",
    "def solve_system(A: Matrix, b: Vector) -> Vector:\n",
    "  \"\"\"\n",
    "  Solution x to the system of linear equations Ax = b\n",
    "\n",
    "  x: 2-dimensional real vector\n",
    "  A: 2x2 matrix with real entries\n",
    "  b: 2-dimensional real vector\n",
    "\n",
    "  If the system does not have a solution, x will be the vector 0.\n",
    "  \"\"\"\n",
    "  pass\n",
    "\n",
    "#Implicit Euler Algorithm\n",
    "def implicit_euler(f: Function, t: float, x: Vector, h: float) -> Vector:\n",
    "  \"\"\"\n",
    "  The approximate of the exact solution to the ODE dx/dt = f(t, x) at\n",
    "  time t + h, x is the value of the solution at time t, h is the time step\n",
    "\n",
    "  t: real number\n",
    "  h: real number\n",
    "  x: 2-dimensional real vector\n",
    "  f: 2-dimensional real-vector-valued function \n",
    "  \"\"\"\n",
    "  y = np.random.rand(2)\n",
    "  for _ in range(30): #You can change this number of Newton steps!\n",
    "    A = None\n",
    "    b = None\n",
    "    y += solve_system(A, b)\n",
    "  return y"
   ]
  },
  {
   "cell_type": "markdown",
   "metadata": {
    "id": "1Ri2YEH0PoSr"
   },
   "source": [
    "2) Write codes to obtain a similar plot to the [plot](https://tinyurl.com/4fpt9xvk) of the example example0 where $A=\\begin{pmatrix}1 & -1 \\\\ 2 & 1 \\end{pmatrix}$ the initial value $\\textbf{x}_0=\\begin{pmatrix}1 \\\\ 1\\end{pmatrix}$. The codes must also work for the other examples! (*2.0 points*)"
   ]
  },
  {
   "cell_type": "code",
   "execution_count": null,
   "metadata": {
    "id": "KSXsbD2rQs_m"
   },
   "outputs": [],
   "source": [
    "#Plot here!"
   ]
  },
  {
   "cell_type": "code",
   "execution_count": null,
   "metadata": {
    "id": "14ISgtLP9V51"
   },
   "outputs": [],
   "source": [
    "#Leave this empty!"
   ]
  },
  {
   "cell_type": "markdown",
   "metadata": {
    "id": "sS9E9hHz9rap"
   },
   "source": [
    "# **References**"
   ]
  },
  {
   "cell_type": "markdown",
   "metadata": {
    "id": "ChZsSCqZ9wp4"
   },
   "source": [
    "List all of your references here!\n",
    "\n",
    "\n",
    "1.   List item\n",
    "2.   List item\n",
    "\n"
   ]
  },
  {
   "cell_type": "markdown",
   "metadata": {
    "id": "h7M-FMp19-BE"
   },
   "source": [
    "\n",
    "\n",
    "---\n",
    "\n"
   ]
  },
  {
   "cell_type": "markdown",
   "metadata": {
    "id": "v4xWYQHf-BIH"
   },
   "source": [
    "# Exercise 4 (Optional)\n",
    "You should provide the answer to this question as a separate Ipython notebook!"
   ]
  },
  {
   "cell_type": "code",
   "execution_count": null,
   "metadata": {
    "id": "4OzOH3MB9W_-"
   },
   "outputs": [],
   "source": [
    "#Leave this empty!"
   ]
  },
  {
   "cell_type": "markdown",
   "metadata": {
    "id": "VjJ3qShiA2Xk"
   },
   "source": [
    "\n",
    "\n",
    "---\n",
    "\n"
   ]
  }
 ],
 "metadata": {
  "colab": {
   "provenance": []
  },
  "kernelspec": {
   "display_name": "Python 3 (ipykernel)",
   "language": "python",
   "name": "python3"
  },
  "language_info": {
   "codemirror_mode": {
    "name": "ipython",
    "version": 3
   },
   "file_extension": ".py",
   "mimetype": "text/x-python",
   "name": "python",
   "nbconvert_exporter": "python",
   "pygments_lexer": "ipython3",
   "version": "3.11.2"
  }
 },
 "nbformat": 4,
 "nbformat_minor": 1
}
